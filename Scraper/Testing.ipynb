{
 "cells": [
  {
   "cell_type": "code",
   "execution_count": 1,
   "metadata": {},
   "outputs": [],
   "source": [
    "\n",
    "import snscrape.modules.twitter as sntwitter\n",
    "import pandas as pd\n",
    "\n"
   ]
  },
  {
   "cell_type": "code",
   "execution_count": 5,
   "metadata": {},
   "outputs": [],
   "source": [
    "# Creating list to append tweet data to\n",
    "tweets_list1 = []\n",
    "\n",
    "# Using TwitterSearchScraper to scrape data and append tweets to list\n",
    "for i,tweet in enumerate(sntwitter.TwitterSearchScraper('from:elonmusk').get_items()):\n",
    "    if i > 100:\n",
    "        break\n",
    "    if tweet.inReplyToUser is None:\n",
    "        tweets_list1.append([tweet.date, tweet.id, tweet.content, tweet.user.username])\n",
    "    \n",
    "# Creating a dataframe from the tweets list above \n",
    "tweets_df1 = pd.DataFrame(tweets_list1, columns=['Datetime', 'Tweet Id', 'Text', 'Username'])"
   ]
  },
  {
   "cell_type": "code",
   "execution_count": 6,
   "metadata": {},
   "outputs": [
    {
     "data": {
      "text/html": [
       "<div>\n",
       "<style scoped>\n",
       "    .dataframe tbody tr th:only-of-type {\n",
       "        vertical-align: middle;\n",
       "    }\n",
       "\n",
       "    .dataframe tbody tr th {\n",
       "        vertical-align: top;\n",
       "    }\n",
       "\n",
       "    .dataframe thead th {\n",
       "        text-align: right;\n",
       "    }\n",
       "</style>\n",
       "<table border=\"1\" class=\"dataframe\">\n",
       "  <thead>\n",
       "    <tr style=\"text-align: right;\">\n",
       "      <th></th>\n",
       "      <th>Datetime</th>\n",
       "      <th>Tweet Id</th>\n",
       "      <th>Text</th>\n",
       "      <th>Username</th>\n",
       "    </tr>\n",
       "  </thead>\n",
       "  <tbody>\n",
       "    <tr>\n",
       "      <th>0</th>\n",
       "      <td>2021-06-04 03:25:26+00:00</td>\n",
       "      <td>1400654905149476865</td>\n",
       "      <td>Canada\\nUSA\\nMexico</td>\n",
       "      <td>elonmusk</td>\n",
       "    </tr>\n",
       "    <tr>\n",
       "      <th>1</th>\n",
       "      <td>2021-06-04 01:07:04+00:00</td>\n",
       "      <td>1400620080090730501</td>\n",
       "      <td>#Bitcoin 💔 https://t.co/lNnEfMdtJf</td>\n",
       "      <td>elonmusk</td>\n",
       "    </tr>\n",
       "    <tr>\n",
       "      <th>2</th>\n",
       "      <td>2021-06-02 07:05:02+00:00</td>\n",
       "      <td>1399985389725753346</td>\n",
       "      <td>Found this pic of me as a child https://t.co/h...</td>\n",
       "      <td>elonmusk</td>\n",
       "    </tr>\n",
       "    <tr>\n",
       "      <th>3</th>\n",
       "      <td>2021-05-30 19:42:22+00:00</td>\n",
       "      <td>1399088815705399305</td>\n",
       "      <td>Ocean spaceport Deimos is under construction f...</td>\n",
       "      <td>elonmusk</td>\n",
       "    </tr>\n",
       "    <tr>\n",
       "      <th>4</th>\n",
       "      <td>2021-05-29 05:01:18+00:00</td>\n",
       "      <td>1398504702988390400</td>\n",
       "      <td>Model S Plaid delivery pushed to June 10. Need...</td>\n",
       "      <td>elonmusk</td>\n",
       "    </tr>\n",
       "    <tr>\n",
       "      <th>5</th>\n",
       "      <td>2021-05-28 03:47:51+00:00</td>\n",
       "      <td>1398123830871150600</td>\n",
       "      <td>Ship 16 &amp;amp; Booster 2, Starbase Highbay http...</td>\n",
       "      <td>elonmusk</td>\n",
       "    </tr>\n",
       "    <tr>\n",
       "      <th>6</th>\n",
       "      <td>2021-05-26 18:47:30+00:00</td>\n",
       "      <td>1397625459437826049</td>\n",
       "      <td>Deep thots https://t.co/J5mJff7IIL</td>\n",
       "      <td>elonmusk</td>\n",
       "    </tr>\n",
       "    <tr>\n",
       "      <th>7</th>\n",
       "      <td>2021-05-24 19:49:56+00:00</td>\n",
       "      <td>1396916392629137409</td>\n",
       "      <td>If you’d like to help develop Doge, please sub...</td>\n",
       "      <td>elonmusk</td>\n",
       "    </tr>\n",
       "    <tr>\n",
       "      <th>8</th>\n",
       "      <td>2021-05-24 19:42:36+00:00</td>\n",
       "      <td>1396914548167233537</td>\n",
       "      <td>Spoke with North American Bitcoin miners. They...</td>\n",
       "      <td>elonmusk</td>\n",
       "    </tr>\n",
       "    <tr>\n",
       "      <th>9</th>\n",
       "      <td>2021-05-22 22:22:56+00:00</td>\n",
       "      <td>1396230120692543489</td>\n",
       "      <td>https://t.co/7afq6DIlzc</td>\n",
       "      <td>elonmusk</td>\n",
       "    </tr>\n",
       "    <tr>\n",
       "      <th>10</th>\n",
       "      <td>2021-05-22 09:22:41+00:00</td>\n",
       "      <td>1396033766490087426</td>\n",
       "      <td>Any sufficiently advanced magic is indistingui...</td>\n",
       "      <td>elonmusk</td>\n",
       "    </tr>\n",
       "  </tbody>\n",
       "</table>\n",
       "</div>"
      ],
      "text/plain": [
       "                    Datetime             Tweet Id  \\\n",
       "0  2021-06-04 03:25:26+00:00  1400654905149476865   \n",
       "1  2021-06-04 01:07:04+00:00  1400620080090730501   \n",
       "2  2021-06-02 07:05:02+00:00  1399985389725753346   \n",
       "3  2021-05-30 19:42:22+00:00  1399088815705399305   \n",
       "4  2021-05-29 05:01:18+00:00  1398504702988390400   \n",
       "5  2021-05-28 03:47:51+00:00  1398123830871150600   \n",
       "6  2021-05-26 18:47:30+00:00  1397625459437826049   \n",
       "7  2021-05-24 19:49:56+00:00  1396916392629137409   \n",
       "8  2021-05-24 19:42:36+00:00  1396914548167233537   \n",
       "9  2021-05-22 22:22:56+00:00  1396230120692543489   \n",
       "10 2021-05-22 09:22:41+00:00  1396033766490087426   \n",
       "\n",
       "                                                 Text  Username  \n",
       "0                                 Canada\\nUSA\\nMexico  elonmusk  \n",
       "1                  #Bitcoin 💔 https://t.co/lNnEfMdtJf  elonmusk  \n",
       "2   Found this pic of me as a child https://t.co/h...  elonmusk  \n",
       "3   Ocean spaceport Deimos is under construction f...  elonmusk  \n",
       "4   Model S Plaid delivery pushed to June 10. Need...  elonmusk  \n",
       "5   Ship 16 &amp; Booster 2, Starbase Highbay http...  elonmusk  \n",
       "6                  Deep thots https://t.co/J5mJff7IIL  elonmusk  \n",
       "7   If you’d like to help develop Doge, please sub...  elonmusk  \n",
       "8   Spoke with North American Bitcoin miners. They...  elonmusk  \n",
       "9                             https://t.co/7afq6DIlzc  elonmusk  \n",
       "10  Any sufficiently advanced magic is indistingui...  elonmusk  "
      ]
     },
     "execution_count": 6,
     "metadata": {},
     "output_type": "execute_result"
    }
   ],
   "source": [
    "tweets_df1"
   ]
  },
  {
   "cell_type": "code",
   "execution_count": 10,
   "metadata": {},
   "outputs": [
    {
     "name": "stdout",
     "output_type": "stream",
     "text": [
      "('{\"_type\": \"snscrape.modules.twitter.Tweet\", \"url\": '\n",
      " '\"https://twitter.com/elonmusk/status/1395328697436033032\", \"date\": '\n",
      " '\"2021-05-20T10:41:00+00:00\", \"content\": \"How much is that Doge in the '\n",
      " 'window? https://t.co/bxTkWOr50V\", \"renderedContent\": \"How much is that Doge '\n",
      " 'in the window? https://t.co/bxTkWOr50V\", \"id\": 1395328697436033032, \"user\": '\n",
      " '{\"_type\": \"snscrape.modules.twitter.User\", \"username\": \"elonmusk\", \"id\": '\n",
      " '44196397, \"displayname\": \"Elon Musk\", \"description\": \"\", \"rawDescription\": '\n",
      " '\"\", \"descriptionUrls\": null, \"verified\": true, \"created\": '\n",
      " '\"2009-06-02T20:12:29+00:00\", \"followersCount\": 56385683, \"friendsCount\": '\n",
      " '106, \"statusesCount\": 14423, \"favouritesCount\": 8893, \"listedCount\": 73460, '\n",
      " '\"mediaCount\": 877, \"location\": \"\", \"protected\": false, \"linkUrl\": null, '\n",
      " '\"linkTcourl\": null, \"profileImageUrl\": '\n",
      " '\"https://pbs.twimg.com/profile_images/1383184766959120385/MM9DHPWC_normal.jpg\", '\n",
      " '\"profileBannerUrl\": '\n",
      " '\"https://pbs.twimg.com/profile_banners/44196397/1576183471\", \"url\": '\n",
      " '\"https://twitter.com/elonmusk\"}, \"replyCount\": 74614, \"retweetCount\": 55820, '\n",
      " '\"likeCount\": 312989, \"quoteCount\": 8036, \"conversationId\": '\n",
      " '1395328697436033032, \"lang\": \"en\", \"source\": \"<a '\n",
      " 'href=\\\\\"http://twitter.com/download/iphone\\\\\" rel=\\\\\"nofollow\\\\\">Twitter for '\n",
      " 'iPhone</a>\", \"sourceUrl\": \"http://twitter.com/download/iphone\", '\n",
      " '\"sourceLabel\": \"Twitter for iPhone\", \"outlinks\": null, \"tcooutlinks\": null, '\n",
      " '\"media\": [{\"_type\": \"snscrape.modules.twitter.Photo\", \"previewUrl\": '\n",
      " '\"https://pbs.twimg.com/media/E100DerVEAAfKpp?format=jpg&name=small\", '\n",
      " '\"fullUrl\": '\n",
      " '\"https://pbs.twimg.com/media/E100DerVEAAfKpp?format=jpg&name=large\"}], '\n",
      " '\"retweetedTweet\": null, \"quotedTweet\": null, \"inReplyToTweetId\": null, '\n",
      " '\"inReplyToUser\": null, \"mentionedUsers\": null, \"coordinates\": null, \"place\": '\n",
      " 'null, \"hashtags\": null, \"cashtags\": null}')\n"
     ]
    }
   ],
   "source": [
    "pprint.pprint(tweet.json())"
   ]
  },
  {
   "cell_type": "code",
   "execution_count": 11,
   "metadata": {},
   "outputs": [],
   "source": [
    "tweet.inReplyToUser"
   ]
  },
  {
   "cell_type": "code",
   "execution_count": 24,
   "metadata": {},
   "outputs": [],
   "source": [
    "tweets_df1 = tweets_df1.set_index(\"Tweet Id\")"
   ]
  },
  {
   "cell_type": "code",
   "execution_count": 7,
   "metadata": {},
   "outputs": [
    {
     "data": {
      "text/plain": [
       "'https://twitter.com/elonmusk/status/1395472799020421120'"
      ]
     },
     "execution_count": 7,
     "metadata": {},
     "output_type": "execute_result"
    }
   ],
   "source": [
    "tweet.url"
   ]
  },
  {
   "cell_type": "code",
   "execution_count": 94,
   "metadata": {},
   "outputs": [
    {
     "name": "stdout",
     "output_type": "stream",
     "text": [
      "False\n",
      "False\n",
      "False\n",
      "False\n",
      "False\n",
      "False\n",
      "False\n",
      "False\n",
      "False\n",
      "False\n",
      "False\n",
      "False\n",
      "False\n",
      "False\n",
      "False\n",
      "False\n",
      "False\n",
      "False\n",
      "False\n",
      "False\n",
      "False\n",
      "False\n",
      "False\n",
      "False\n",
      "False\n",
      "False\n",
      "False\n",
      "False\n",
      "False\n",
      "False\n",
      "False\n",
      "False\n",
      "False\n",
      "False\n",
      "False\n",
      "False\n",
      "False\n",
      "False\n",
      "False\n",
      "False\n",
      "False\n",
      "False\n",
      "False\n",
      "False\n",
      "False\n",
      "False\n",
      "False\n",
      "False\n",
      "False\n",
      "False\n",
      "False\n",
      "False\n",
      "False\n",
      "False\n",
      "False\n",
      "False\n",
      "False\n",
      "False\n",
      "False\n",
      "False\n",
      "False\n",
      "False\n",
      "False\n",
      "False\n",
      "False\n",
      "False\n",
      "False\n",
      "False\n",
      "False\n",
      "False\n",
      "False\n",
      "False\n",
      "False\n",
      "False\n",
      "False\n",
      "False\n",
      "False\n",
      "False\n",
      "False\n",
      "False\n",
      "False\n",
      "False\n",
      "False\n",
      "False\n",
      "False\n",
      "False\n",
      "False\n",
      "False\n",
      "False\n",
      "False\n",
      "False\n",
      "False\n",
      "False\n",
      "False\n",
      "False\n",
      "False\n",
      "False\n",
      "False\n",
      "False\n",
      "False\n",
      "False\n",
      "False\n",
      "False\n",
      "False\n",
      "False\n",
      "False\n",
      "False\n",
      "False\n",
      "False\n",
      "False\n",
      "False\n",
      "False\n",
      "False\n",
      "False\n",
      "False\n",
      "False\n",
      "False\n",
      "False\n",
      "False\n",
      "False\n",
      "False\n",
      "False\n",
      "False\n",
      "False\n",
      "True\n"
     ]
    }
   ],
   "source": [
    "# Creating list to append tweet data to\n",
    "tweets_list2 = []\n",
    "\n",
    "# Using TwitterSearchScraper to scrape data and append tweets to list\n",
    "for i,tweet in enumerate(sntwitter.TwitterUserScraper(username='elonmusk',isUserId=False).get_items()):\n",
    "    if i > 150:\n",
    "        break    \n",
    "    print(tweet.date < x)\n",
    "    if tweet.date < x: \n",
    "        break\n",
    "    if not tweet.inReplyToUser:\n",
    "        tweets_list2.append([tweet.date, tweet.id, tweet.content, tweet.user.username])\n",
    "    \n",
    "# Creating a dataframe from the tweets list above \n",
    "tweets_df2 = pd.DataFrame(tweets_list2, columns=['Datetime', 'Tweet Id', 'Text', 'Username'])"
   ]
  },
  {
   "cell_type": "code",
   "execution_count": 95,
   "metadata": {},
   "outputs": [
    {
     "data": {
      "text/html": [
       "<div>\n",
       "<style scoped>\n",
       "    .dataframe tbody tr th:only-of-type {\n",
       "        vertical-align: middle;\n",
       "    }\n",
       "\n",
       "    .dataframe tbody tr th {\n",
       "        vertical-align: top;\n",
       "    }\n",
       "\n",
       "    .dataframe thead th {\n",
       "        text-align: right;\n",
       "    }\n",
       "</style>\n",
       "<table border=\"1\" class=\"dataframe\">\n",
       "  <thead>\n",
       "    <tr style=\"text-align: right;\">\n",
       "      <th></th>\n",
       "      <th>Datetime</th>\n",
       "      <th>Tweet Id</th>\n",
       "      <th>Text</th>\n",
       "      <th>Username</th>\n",
       "    </tr>\n",
       "  </thead>\n",
       "  <tbody>\n",
       "    <tr>\n",
       "      <th>0</th>\n",
       "      <td>2021-06-04 03:25:26+00:00</td>\n",
       "      <td>1400654905149476865</td>\n",
       "      <td>Canada\\nUSA\\nMexico</td>\n",
       "      <td>elonmusk</td>\n",
       "    </tr>\n",
       "    <tr>\n",
       "      <th>1</th>\n",
       "      <td>2021-06-04 01:07:04+00:00</td>\n",
       "      <td>1400620080090730501</td>\n",
       "      <td>#Bitcoin 💔 https://t.co/lNnEfMdtJf</td>\n",
       "      <td>elonmusk</td>\n",
       "    </tr>\n",
       "    <tr>\n",
       "      <th>2</th>\n",
       "      <td>2021-06-02 07:05:02+00:00</td>\n",
       "      <td>1399985389725753346</td>\n",
       "      <td>Found this pic of me as a child https://t.co/h...</td>\n",
       "      <td>elonmusk</td>\n",
       "    </tr>\n",
       "    <tr>\n",
       "      <th>3</th>\n",
       "      <td>2021-05-30 19:42:22+00:00</td>\n",
       "      <td>1399088815705399305</td>\n",
       "      <td>Ocean spaceport Deimos is under construction f...</td>\n",
       "      <td>elonmusk</td>\n",
       "    </tr>\n",
       "    <tr>\n",
       "      <th>4</th>\n",
       "      <td>2021-05-29 05:01:18+00:00</td>\n",
       "      <td>1398504702988390400</td>\n",
       "      <td>Model S Plaid delivery pushed to June 10. Need...</td>\n",
       "      <td>elonmusk</td>\n",
       "    </tr>\n",
       "    <tr>\n",
       "      <th>5</th>\n",
       "      <td>2021-05-28 03:47:51+00:00</td>\n",
       "      <td>1398123830871150600</td>\n",
       "      <td>Ship 16 &amp;amp; Booster 2, Starbase Highbay http...</td>\n",
       "      <td>elonmusk</td>\n",
       "    </tr>\n",
       "    <tr>\n",
       "      <th>6</th>\n",
       "      <td>2021-05-26 18:47:30+00:00</td>\n",
       "      <td>1397625459437826049</td>\n",
       "      <td>Deep thots https://t.co/J5mJff7IIL</td>\n",
       "      <td>elonmusk</td>\n",
       "    </tr>\n",
       "    <tr>\n",
       "      <th>7</th>\n",
       "      <td>2021-05-24 19:49:56+00:00</td>\n",
       "      <td>1396916392629137409</td>\n",
       "      <td>If you’d like to help develop Doge, please sub...</td>\n",
       "      <td>elonmusk</td>\n",
       "    </tr>\n",
       "    <tr>\n",
       "      <th>8</th>\n",
       "      <td>2021-05-24 19:42:36+00:00</td>\n",
       "      <td>1396914548167233537</td>\n",
       "      <td>Spoke with North American Bitcoin miners. They...</td>\n",
       "      <td>elonmusk</td>\n",
       "    </tr>\n",
       "    <tr>\n",
       "      <th>9</th>\n",
       "      <td>2021-05-22 22:22:56+00:00</td>\n",
       "      <td>1396230120692543489</td>\n",
       "      <td>https://t.co/7afq6DIlzc</td>\n",
       "      <td>elonmusk</td>\n",
       "    </tr>\n",
       "    <tr>\n",
       "      <th>10</th>\n",
       "      <td>2021-05-22 09:22:41+00:00</td>\n",
       "      <td>1396033766490087426</td>\n",
       "      <td>Any sufficiently advanced magic is indistingui...</td>\n",
       "      <td>elonmusk</td>\n",
       "    </tr>\n",
       "    <tr>\n",
       "      <th>11</th>\n",
       "      <td>2021-05-20 10:41:00+00:00</td>\n",
       "      <td>1395328697436033032</td>\n",
       "      <td>How much is that Doge in the window? https://t...</td>\n",
       "      <td>elonmusk</td>\n",
       "    </tr>\n",
       "    <tr>\n",
       "      <th>12</th>\n",
       "      <td>2021-05-20 07:54:54+00:00</td>\n",
       "      <td>1395286896842985479</td>\n",
       "      <td>Tesla Model S Plaid delivery event\\nJune 3 at ...</td>\n",
       "      <td>elonmusk</td>\n",
       "    </tr>\n",
       "  </tbody>\n",
       "</table>\n",
       "</div>"
      ],
      "text/plain": [
       "                    Datetime             Tweet Id  \\\n",
       "0  2021-06-04 03:25:26+00:00  1400654905149476865   \n",
       "1  2021-06-04 01:07:04+00:00  1400620080090730501   \n",
       "2  2021-06-02 07:05:02+00:00  1399985389725753346   \n",
       "3  2021-05-30 19:42:22+00:00  1399088815705399305   \n",
       "4  2021-05-29 05:01:18+00:00  1398504702988390400   \n",
       "5  2021-05-28 03:47:51+00:00  1398123830871150600   \n",
       "6  2021-05-26 18:47:30+00:00  1397625459437826049   \n",
       "7  2021-05-24 19:49:56+00:00  1396916392629137409   \n",
       "8  2021-05-24 19:42:36+00:00  1396914548167233537   \n",
       "9  2021-05-22 22:22:56+00:00  1396230120692543489   \n",
       "10 2021-05-22 09:22:41+00:00  1396033766490087426   \n",
       "11 2021-05-20 10:41:00+00:00  1395328697436033032   \n",
       "12 2021-05-20 07:54:54+00:00  1395286896842985479   \n",
       "\n",
       "                                                 Text  Username  \n",
       "0                                 Canada\\nUSA\\nMexico  elonmusk  \n",
       "1                  #Bitcoin 💔 https://t.co/lNnEfMdtJf  elonmusk  \n",
       "2   Found this pic of me as a child https://t.co/h...  elonmusk  \n",
       "3   Ocean spaceport Deimos is under construction f...  elonmusk  \n",
       "4   Model S Plaid delivery pushed to June 10. Need...  elonmusk  \n",
       "5   Ship 16 &amp; Booster 2, Starbase Highbay http...  elonmusk  \n",
       "6                  Deep thots https://t.co/J5mJff7IIL  elonmusk  \n",
       "7   If you’d like to help develop Doge, please sub...  elonmusk  \n",
       "8   Spoke with North American Bitcoin miners. They...  elonmusk  \n",
       "9                             https://t.co/7afq6DIlzc  elonmusk  \n",
       "10  Any sufficiently advanced magic is indistingui...  elonmusk  \n",
       "11  How much is that Doge in the window? https://t...  elonmusk  \n",
       "12  Tesla Model S Plaid delivery event\\nJune 3 at ...  elonmusk  "
      ]
     },
     "execution_count": 95,
     "metadata": {},
     "output_type": "execute_result"
    }
   ],
   "source": [
    "tweets_df2"
   ]
  },
  {
   "cell_type": "code",
   "execution_count": 32,
   "metadata": {},
   "outputs": [
    {
     "data": {
      "text/plain": [
       "datetime.datetime(2021, 5, 20, 10, 41, tzinfo=datetime.timezone.utc)"
      ]
     },
     "execution_count": 32,
     "metadata": {},
     "output_type": "execute_result"
    }
   ],
   "source": [
    "tweet.date"
   ]
  },
  {
   "cell_type": "code",
   "execution_count": 29,
   "metadata": {},
   "outputs": [],
   "source": [
    "import datetime\n",
    "import pytz"
   ]
  },
  {
   "cell_type": "code",
   "execution_count": 85,
   "metadata": {},
   "outputs": [],
   "source": [
    "test_date = datetime.datetime.now()"
   ]
  },
  {
   "cell_type": "code",
   "execution_count": 86,
   "metadata": {},
   "outputs": [
    {
     "data": {
      "text/plain": [
       "datetime.datetime(2021, 6, 4, 21, 58, 40, 447039)"
      ]
     },
     "execution_count": 86,
     "metadata": {},
     "output_type": "execute_result"
    }
   ],
   "source": [
    "test_date"
   ]
  },
  {
   "cell_type": "code",
   "execution_count": 91,
   "metadata": {},
   "outputs": [],
   "source": [
    "delta = datetime.timedelta(days=2, weeks=2)\n",
    "x = test_date - delta\n",
    "x = pytz.utc.localize(x)"
   ]
  },
  {
   "cell_type": "code",
   "execution_count": 92,
   "metadata": {},
   "outputs": [
    {
     "data": {
      "text/plain": [
       "False"
      ]
     },
     "execution_count": 92,
     "metadata": {},
     "output_type": "execute_result"
    }
   ],
   "source": [
    "tweet.date > x"
   ]
  },
  {
   "cell_type": "code",
   "execution_count": 93,
   "metadata": {},
   "outputs": [
    {
     "data": {
      "text/plain": [
       "True"
      ]
     },
     "execution_count": 93,
     "metadata": {},
     "output_type": "execute_result"
    }
   ],
   "source": [
    "tweet.date < x"
   ]
  },
  {
   "cell_type": "code",
   "execution_count": 90,
   "metadata": {},
   "outputs": [
    {
     "data": {
      "text/plain": [
       "datetime.datetime(2021, 5, 16, 1, 20, 45, tzinfo=datetime.timezone.utc)"
      ]
     },
     "execution_count": 90,
     "metadata": {},
     "output_type": "execute_result"
    }
   ],
   "source": [
    "tweet.date"
   ]
  },
  {
   "cell_type": "code",
   "execution_count": 84,
   "metadata": {},
   "outputs": [
    {
     "data": {
      "text/plain": [
       "datetime.datetime(2020, 6, 17, 21, 58, 18, 425519, tzinfo=<UTC>)"
      ]
     },
     "execution_count": 84,
     "metadata": {},
     "output_type": "execute_result"
    }
   ],
   "source": [
    "x"
   ]
  },
  {
   "cell_type": "code",
   "execution_count": 79,
   "metadata": {},
   "outputs": [
    {
     "data": {
      "text/plain": [
       "datetime.datetime(2021, 5, 16, 1, 20, 45, tzinfo=datetime.timezone.utc)"
      ]
     },
     "execution_count": 79,
     "metadata": {},
     "output_type": "execute_result"
    }
   ],
   "source": [
    "tweet.date"
   ]
  }
 ],
 "metadata": {
  "kernelspec": {
   "display_name": "Python 3",
   "language": "python",
   "name": "python3"
  },
  "language_info": {
   "codemirror_mode": {
    "name": "ipython",
    "version": 3
   },
   "file_extension": ".py",
   "mimetype": "text/x-python",
   "name": "python",
   "nbconvert_exporter": "python",
   "pygments_lexer": "ipython3",
   "version": "3.8.7"
  }
 },
 "nbformat": 4,
 "nbformat_minor": 4
}
